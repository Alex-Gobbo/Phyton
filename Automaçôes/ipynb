Criação de automação em Python
