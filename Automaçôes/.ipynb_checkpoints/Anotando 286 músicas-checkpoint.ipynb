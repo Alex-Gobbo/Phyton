{
 "cells": [
  {
   "cell_type": "markdown",
   "id": "8c1fa8b7",
   "metadata": {},
   "source": [
    "# Automação: Anotar cada uma das músicas de uma playlist do Youtube em um bloco de notas"
   ]
  },
  {
   "cell_type": "code",
   "execution_count": 141,
   "id": "e6213ed1",
   "metadata": {},
   "outputs": [],
   "source": [
    "# Importando bibliotecas\n",
    "\n",
    "import pyautogui \n",
    "import time"
   ]
  },
  {
   "cell_type": "markdown",
   "id": "831f57c1",
   "metadata": {},
   "source": [
    "### Acessando a playlist"
   ]
  },
  {
   "cell_type": "code",
   "execution_count": 142,
   "id": "ecc265ea",
   "metadata": {
    "scrolled": true
   },
   "outputs": [],
   "source": [
    "pyautogui.PAUSE = 3\n",
    "\n",
    "pyautogui.hotkey(\"ctrl\", \"t\") # Abre uma nova aba\n",
    "pyautogui.write(\"https://www.youtube.com/\")# cola o endereço do site na URL\n",
    "pyautogui.press(\"enter\")# entra na interface do site\n",
    "time.sleep(5)\n",
    "\n",
    "\n",
    "pyautogui.click(x=82, y=431, button = 'left') # Clica na playlist escolhida\n",
    "pyautogui.click(x=762, y=268, button = 'left') # Seleciona a música escolhida\n",
    "\n",
    "time.sleep(3)\n"
   ]
  },
  {
   "cell_type": "markdown",
   "id": "e8b8c7c8",
   "metadata": {},
   "source": [
    "<font size=\"4\">**Objetivo príncipal: Colar e copiar o título de cada música no bloco de notas**</font>"
   ]
  },
  {
   "cell_type": "code",
   "execution_count": 143,
   "id": "6ce43f6b",
   "metadata": {},
   "outputs": [],
   "source": [
    "pyautogui.click(x=183, y=665, clicks=3, interval=0.2, button='left') #Seleciona o título da música\n",
    "\n",
    "contador = 1\n",
    "n_musicas = 286\n",
    "qtd_musicas = 844\n",
    "\n",
    "while contador <= n_musicas:\n",
    "    pyautogui.PAUSE = 1\n",
    "    \n",
    "    pyautogui.hotkey(\"ctrl\", \"c\") # Copia o título\n",
    "    pyautogui.hotkey(\"alt\", \"tab\") # Seleciona o bloco de notas\n",
    "    \n",
    "    # Numera cada música\n",
    "    pyautogui.write(f'''{qtd_musicas} - ''') \n",
    "    qtd_musicas -= 1\n",
    "    \n",
    "    pyautogui.hotkey(\"ctrl\", \"v\") # Cola o título no bloco de notas\n",
    "    pyautogui.hotkey(\"alt\", \"tab\") # Seleciona o Youtube\n",
    "    pyautogui.hotkey(\"shift\", \"n\") # Muda de música\n",
    "    time.sleep(3)\n",
    "    \n",
    "    contador += 1"
   ]
  },
  {
   "cell_type": "code",
   "execution_count": 144,
   "id": "40a36539",
   "metadata": {},
   "outputs": [],
   "source": [
    "#time.sleep(5)\n",
    "#print(pyautogui.position())"
   ]
  }
 ],
 "metadata": {
  "kernelspec": {
   "display_name": "Python 3 (ipykernel)",
   "language": "python",
   "name": "python3"
  },
  "language_info": {
   "codemirror_mode": {
    "name": "ipython",
    "version": 3
   },
   "file_extension": ".py",
   "mimetype": "text/x-python",
   "name": "python",
   "nbconvert_exporter": "python",
   "pygments_lexer": "ipython3",
   "version": "3.11.3"
  }
 },
 "nbformat": 4,
 "nbformat_minor": 5
}
